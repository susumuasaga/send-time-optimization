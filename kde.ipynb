{
 "cells": [
  {
   "cell_type": "markdown",
   "metadata": {},
   "source": [
    "# Send Time Optimization\n",
    "Susumu Asaga\n",
    "\n",
    "Iniciamos com as importações padrões."
   ]
  },
  {
   "cell_type": "code",
   "execution_count": null,
   "metadata": {},
   "outputs": [],
   "source": [
    "%matplotlib inline\n",
    "import matplotlib.pyplot as plt\n",
    "import seaborn as sns; sns.set()\n",
    "import numpy as np\n",
    "import pandas as pd"
   ]
  },
  {
   "cell_type": "markdown",
   "metadata": {},
   "source": [
    "Embora existam várias versões de estimativa de densidade de kernel implementadas em Python (principalmente nos pacotes SciPy e StatsModels), prefiro usar a versão do Scikit-Learn\n",
    "por causa de sua eficiência e flexibilidade. Ele é implementado no estimador `sklearn.neighbors.KernelDensity`, que manipula o KDE em várias dimensões com um de seis kernels e uma dúzia de métricas de distância. Como o KDE pode ser razoavelmente computacionalmente intensivo, o estimador Scikit-Learn usa um algoritmo baseado em árvore sob o capô e pode reduzir tempo de computação em troca da acurácia usando os parâmetros `atol` (tolerância absoluta) e `rtol` (tolerância relativa)."
   ]
  },
  {
   "cell_type": "code",
   "execution_count": null,
   "metadata": {},
   "outputs": [],
   "source": [
    "from sklearn.neighbors import KernelDensity"
   ]
  },
  {
   "cell_type": "markdown",
   "metadata": {},
   "source": [
    "Vamos fazer uma estimativa para cada um dos 1440 minutos das 24 horas do dia da semana corrente."
   ]
  },
  {
   "cell_type": "code",
   "execution_count": null,
   "metadata": {},
   "outputs": [],
   "source": [
    "x_d = np.linspace(0, 24, 1441)"
   ]
  },
  {
   "cell_type": "markdown",
   "metadata": {},
   "source": [
    "Foram preparados sete conjuntos de dados com as horas dos eventos `open` em arquivos textos, um para cada dia da semana. Para cada dia da semana, faremos a leitura do arquivo e a estimativa de densidade usando o kernel de Epanechnikov e largura de banda igual a 1."
   ]
  },
  {
   "cell_type": "code",
   "execution_count": null,
   "metadata": {},
   "outputs": [],
   "source": [
    "week_day='saturday'\n",
    "table = pd.read_csv(week_day + '.csv')\n",
    "x = table['time'].values\n",
    "kde = KernelDensity(bandwidth=1, kernel='epanechnikov')\n",
    "kde.fit(x[:, None])\n",
    "logprob = kde.score_samples(x_d[:, None])\n",
    "y_d = np.exp(logprob)\n",
    "fig, ax = plt.subplots()\n",
    "fig.set_size_inches(12, 9)\n",
    "ax.set(xlim=(0, 24), xlabel='time', ylabel='density', title=week_day)\n",
    "ax.xaxis.set_major_locator(plt.MultipleLocator(1))\n",
    "ax.grid(which='major', axis='x', linestyle='-')\n",
    "ax.plot(x_d,  y_d)\n",
    "plt.savefig('pde_' + week_day + '.png')\n",
    "pde= pd.DataFrame(data={ 'time': x_d, 'density': y_d })\n",
    "pde.to_csv('pde_' + week_day + '.csv')"
   ]
  }
 ],
 "metadata": {
  "kernelspec": {
   "display_name": "Python 3",
   "language": "python",
   "name": "python3"
  },
  "language_info": {
   "codemirror_mode": {
    "name": "ipython",
    "version": 3
   },
   "file_extension": ".py",
   "mimetype": "text/x-python",
   "name": "python",
   "nbconvert_exporter": "python",
   "pygments_lexer": "ipython3",
   "version": "3.5.6"
  },
  "toc": {
   "base_numbering": 1,
   "nav_menu": {},
   "number_sections": true,
   "sideBar": true,
   "skip_h1_title": false,
   "title_cell": "Table of Contents",
   "title_sidebar": "Contents",
   "toc_cell": false,
   "toc_position": {},
   "toc_section_display": true,
   "toc_window_display": false
  }
 },
 "nbformat": 4,
 "nbformat_minor": 2
}
